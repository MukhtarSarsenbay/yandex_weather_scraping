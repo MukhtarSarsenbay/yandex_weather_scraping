{
 "cells": [
  {
   "cell_type": "code",
   "execution_count": null,
   "metadata": {},
   "outputs": [],
   "source": [
    "import pandas as pd\n",
    "\n",
    "# Загрузка данных\n",
    "data = pd.read_csv('weather_data.csv', encoding='utf-8')\n",
    "\n",
    "# Преобразование столбца Date в формат datetime\n",
    "data['Date'] = pd.to_datetime(data['Date'], errors='coerce')\n",
    "\n",
    "# Выведем первые несколько строк данных\n",
    "print(data.head())\n",
    "\n",
    "# Вычисление средней температуры\n",
    "average_day_temperature = data['Day Temperature'].mean()\n",
    "average_night_temperature = data['Night Temperature'].mean()\n",
    "\n",
    "print(f\"Средняя дневная температура: {average_day_temperature:.2f}\")\n",
    "print(f\"Средняя ночная температура: {average_night_temperature:.2f}\")\n",
    "\n",
    "# Находим наиболее холодный и жаркий день\n",
    "coldest_day = data.loc[data['Day Temperature'].idxmin()]\n",
    "hottest_day = data.loc[data['Day Temperature'].idxmax()]\n",
    "\n",
    "print(\"Наиболее холодный день:\")\n",
    "print(coldest_day)\n",
    "\n",
    "print(\"\\nНаиболее жаркий день:\")\n",
    "print(hottest_day)\n"
   ]
  },
  {
   "cell_type": "code",
   "execution_count": null,
   "metadata": {},
   "outputs": [],
   "source": [
    "import matplotlib.pyplot as plt\n",
    "\n",
    "# График средней температуры по дням\n",
    "plt.figure(figsize=(10, 6))\n",
    "plt.plot(data['Date'], data['Day Temperature'], label='Дневная температура', marker='o')\n",
    "plt.plot(data['Date'], data['Night Temperature'], label='Ночная температура', marker='o')\n",
    "plt.axhline(average_day_temperature, color='r', linestyle='--', label='Средняя дневная температура')\n",
    "plt.axhline(average_night_temperature, color='b', linestyle='--', label='Средняя ночная температура')\n",
    "plt.title('Температура по дням')\n",
    "plt.xlabel('Дата')\n",
    "plt.ylabel('Температура')\n",
    "plt.legend()\n",
    "plt.show()\n"
   ]
  }
 ],
 "metadata": {
  "language_info": {
   "name": "python"
  },
  "orig_nbformat": 4
 },
 "nbformat": 4,
 "nbformat_minor": 2
}
